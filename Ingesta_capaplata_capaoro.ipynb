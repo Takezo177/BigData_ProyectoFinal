{
 "cells": [
  {
   "cell_type": "code",
   "execution_count": 0,
   "metadata": {
    "application/vnd.databricks.v1+cell": {
     "cellMetadata": {
      "byteLimit": 2048000,
      "rowLimit": 10000
     },
     "inputWidgets": {},
     "nuid": "340f2de9-0911-4652-a739-5659d3f653b1",
     "showTitle": false,
     "title": ""
    }
   },
   "outputs": [
    {
     "output_type": "stream",
     "name": "stdout",
     "output_type": "stream",
     "text": [
      "/mnt/proyectofinal has been unmounted.\n"
     ]
    },
    {
     "output_type": "execute_result",
     "data": {
      "text/plain": [
       "True"
      ]
     },
     "execution_count": 14,
     "metadata": {},
     "output_type": "execute_result"
    }
   ],
   "source": [
    "## desmontar acceso directo: unmount\n",
    "dbutils.fs.unmount(\"/mnt/proyectofinal\")"
   ]
  },
  {
   "cell_type": "code",
   "execution_count": 0,
   "metadata": {
    "application/vnd.databricks.v1+cell": {
     "cellMetadata": {
      "byteLimit": 2048000,
      "rowLimit": 10000
     },
     "inputWidgets": {},
     "nuid": "7a090d25-ece7-42af-aebd-2c0b44444001",
     "showTitle": false,
     "title": ""
    }
   },
   "outputs": [
    {
     "output_type": "display_data",
     "data": {
      "text/html": [
       "<style scoped>\n",
       "  .ansiout {\n",
       "    display: block;\n",
       "    unicode-bidi: embed;\n",
       "    white-space: pre-wrap;\n",
       "    word-wrap: break-word;\n",
       "    word-break: break-all;\n",
       "    font-family: \"Menlo\", \"Monaco\", \"Consolas\", \"Ubuntu Mono\", \"Source Code Pro\", monospace;\n",
       "    font-size: 13px;\n",
       "    color: #555;\n",
       "    margin-left: 4px;\n",
       "    line-height: 19px;\n",
       "  }\n",
       "</style>\n",
       "<div class=\"ansiout\">storageAccount: String = corteztenorio\n",
       "container: String = proyectofinal\n",
       "sasKey: String = sv=2022-11-02&amp;ss=bfqt&amp;srt=sco&amp;sp=rwdlacupyx&amp;se=2024-10-11T09:59:01Z&amp;st=2024-09-27T01:59:01Z&amp;spr=https&amp;sig=SmZYHYeHyKXKYy9fNrQJgvdm4gXRciY1cUtX7qqI6yI%3D\n",
       "conf: String = fs.azure.sas.proyectofinal.corteztenorio.blob.core.windows.net\n",
       "res13: Boolean = true\n",
       "</div>"
      ]
     },
     "metadata": {
      "application/vnd.databricks.v1+output": {
       "addedWidgets": {},
       "arguments": {},
       "data": "<div class=\"ansiout\">storageAccount: String = corteztenorio\ncontainer: String = proyectofinal\nsasKey: String = sv=2022-11-02&amp;ss=bfqt&amp;srt=sco&amp;sp=rwdlacupyx&amp;se=2024-10-11T09:59:01Z&amp;st=2024-09-27T01:59:01Z&amp;spr=https&amp;sig=SmZYHYeHyKXKYy9fNrQJgvdm4gXRciY1cUtX7qqI6yI%3D\nconf: String = fs.azure.sas.proyectofinal.corteztenorio.blob.core.windows.net\nres13: Boolean = true\n</div>",
       "datasetInfos": [],
       "metadata": {
        "isDbfsCommandResult": false
       },
       "removedWidgets": [],
       "type": "html"
      }
     },
     "output_type": "display_data"
    }
   ],
   "source": [
    "%scala\n",
    "\n",
    "val storageAccount = \"corteztenorio\" //nombre de la cuenta de almacenamiento\n",
    "val container = \"proyectofinal\" // nombre del contenedor\n",
    "val sasKey = \"sv=2022-11-02&ss=bfqt&srt=sco&sp=rwdlacupyx&se=2024-10-11T09:59:01Z&st=2024-09-27T01:59:01Z&spr=https&sig=SmZYHYeHyKXKYy9fNrQJgvdm4gXRciY1cUtX7qqI6yI%3D\" // llave de acceso\n",
    "\n",
    "val conf = \"fs.azure.sas.\" + container + \".\" + storageAccount + \".blob.core.windows.net\"\n",
    "\n",
    "//montar acceso directo: mount\n",
    "dbutils.fs.mount(source=\"wasbs://\" + container + \"@\" + storageAccount + \".blob.core.windows.net\", mountPoint=\"/mnt/\" + container, extraConfigs=Map(conf -> sasKey))"
   ]
  },
  {
   "cell_type": "code",
   "execution_count": 0,
   "metadata": {
    "application/vnd.databricks.v1+cell": {
     "cellMetadata": {
      "byteLimit": 2048000,
      "rowLimit": 10000
     },
     "inputWidgets": {},
     "nuid": "a1a30e1d-e58f-439a-bb26-f39ed13b748c",
     "showTitle": false,
     "title": ""
    }
   },
   "outputs": [
    {
     "output_type": "display_data",
     "data": {
      "text/html": [
       "<style scoped>\n",
       "  .table-result-container {\n",
       "    max-height: 300px;\n",
       "    overflow: auto;\n",
       "  }\n",
       "  table, th, td {\n",
       "    border: 1px solid black;\n",
       "    border-collapse: collapse;\n",
       "  }\n",
       "  th, td {\n",
       "    padding: 5px;\n",
       "  }\n",
       "  th {\n",
       "    text-align: left;\n",
       "  }\n",
       "</style><div class='table-result-container'><table class='table-result'><thead style='background-color: white'><tr><th>path</th><th>name</th><th>size</th><th>modificationTime</th></tr></thead><tbody><tr><td>dbfs:/mnt/proyectofinal/capa_plata/Categoria.parquet/</td><td>Categoria.parquet/</td><td>0</td><td>0</td></tr><tr><td>dbfs:/mnt/proyectofinal/capa_plata/Producto.parquet/</td><td>Producto.parquet/</td><td>0</td><td>0</td></tr><tr><td>dbfs:/mnt/proyectofinal/capa_plata/SubCategoria.parquet/</td><td>SubCategoria.parquet/</td><td>0</td><td>0</td></tr></tbody></table></div>"
      ]
     },
     "metadata": {
      "application/vnd.databricks.v1+output": {
       "addedWidgets": {},
       "aggData": [],
       "aggError": "",
       "aggOverflow": false,
       "aggSchema": [],
       "aggSeriesLimitReached": false,
       "aggType": "",
       "arguments": {},
       "columnCustomDisplayInfos": {},
       "data": [
        [
         "dbfs:/mnt/proyectofinal/capa_plata/Categoria.parquet/",
         "Categoria.parquet/",
         0,
         0
        ],
        [
         "dbfs:/mnt/proyectofinal/capa_plata/Producto.parquet/",
         "Producto.parquet/",
         0,
         0
        ],
        [
         "dbfs:/mnt/proyectofinal/capa_plata/SubCategoria.parquet/",
         "SubCategoria.parquet/",
         0,
         0
        ]
       ],
       "datasetInfos": [],
       "dbfsResultPath": null,
       "isJsonSchema": true,
       "metadata": {
        "isDbfsCommandResult": false
       },
       "overflow": false,
       "plotOptions": {
        "customPlotOptions": {},
        "displayType": "table",
        "pivotAggregation": null,
        "pivotColumns": null,
        "xColumns": null,
        "yColumns": null
       },
       "removedWidgets": [],
       "schema": [
        {
         "metadata": "{}",
         "name": "path",
         "type": "\"string\""
        },
        {
         "metadata": "{}",
         "name": "name",
         "type": "\"string\""
        },
        {
         "metadata": "{}",
         "name": "size",
         "type": "\"long\""
        },
        {
         "metadata": "{}",
         "name": "modificationTime",
         "type": "\"long\""
        }
       ],
       "type": "table"
      }
     },
     "output_type": "display_data"
    }
   ],
   "source": [
    "%fs ls /mnt/proyectofinal/capa_plata/"
   ]
  },
  {
   "cell_type": "code",
   "execution_count": 0,
   "metadata": {
    "application/vnd.databricks.v1+cell": {
     "cellMetadata": {
      "byteLimit": 2048000,
      "rowLimit": 10000
     },
     "inputWidgets": {},
     "nuid": "c7e0d1f1-098a-4dca-8b64-464d6e3462ef",
     "showTitle": false,
     "title": ""
    }
   },
   "outputs": [],
   "source": [
    "## Eliminar si existe Producto.parque\n",
    "spark.sql(\"DROP TABLE IF EXISTS s_producto\")\n",
    "\n",
    "## Ingesta archivo Producto.parquet\n",
    "producto = (spark.read.parquet(\"/mnt/proyectofinal/capa_plata/Producto.parquet/\"))\n",
    "producto.createTempView(\"s_producto\")"
   ]
  },
  {
   "cell_type": "code",
   "execution_count": 0,
   "metadata": {
    "application/vnd.databricks.v1+cell": {
     "cellMetadata": {
      "byteLimit": 2048000,
      "rowLimit": 10000
     },
     "inputWidgets": {},
     "nuid": "b51f0a6c-5c38-4066-a2a6-664fadc1ba53",
     "showTitle": false,
     "title": ""
    }
   },
   "outputs": [],
   "source": [
    "## Eliminar si existe Categoria.parquet\n",
    "spark.sql(\"DROP TABLE IF EXISTS s_categoria\")\n",
    "\n",
    "## Ingesta archivo Categoria.parquet\n",
    "producto = (spark.read.parquet(\"/mnt/proyectofinal/capa_plata/Categoria.parquet/\"))\n",
    "producto.createTempView(\"s_categoria\")"
   ]
  },
  {
   "cell_type": "code",
   "execution_count": 0,
   "metadata": {
    "application/vnd.databricks.v1+cell": {
     "cellMetadata": {
      "byteLimit": 2048000,
      "rowLimit": 10000
     },
     "inputWidgets": {},
     "nuid": "12891791-8624-42ec-8d46-0d2d2e8992e1",
     "showTitle": false,
     "title": ""
    }
   },
   "outputs": [],
   "source": [
    "## Eliminar si existe Subcategoria.parquet\n",
    "spark.sql(\"DROP TABLE IF EXISTS s_subcategoria\")\n",
    "\n",
    "## Ingesta archivo SubCategoria.parquet\n",
    "producto = (spark.read.parquet(\"/mnt/proyectofinal/capa_plata/SubCategoria.parquet/\"))\n",
    "producto.createTempView(\"s_subcategoria\")"
   ]
  },
  {
   "cell_type": "code",
   "execution_count": 0,
   "metadata": {
    "application/vnd.databricks.v1+cell": {
     "cellMetadata": {
      "byteLimit": 2048000,
      "implicitDf": true,
      "rowLimit": 10000
     },
     "inputWidgets": {},
     "nuid": "1ec7dbed-5348-4821-a18b-16b5b397f42c",
     "showTitle": false,
     "title": ""
    }
   },
   "outputs": [
    {
     "output_type": "display_data",
     "data": {
      "text/html": [
       "<style scoped>\n",
       "  .table-result-container {\n",
       "    max-height: 300px;\n",
       "    overflow: auto;\n",
       "  }\n",
       "  table, th, td {\n",
       "    border: 1px solid black;\n",
       "    border-collapse: collapse;\n",
       "  }\n",
       "  th, td {\n",
       "    padding: 5px;\n",
       "  }\n",
       "  th {\n",
       "    text-align: left;\n",
       "  }\n",
       "</style><div class='table-result-container'><table class='table-result'><thead style='background-color: white'><tr></tr></thead><tbody></tbody></table></div>"
      ]
     },
     "metadata": {
      "application/vnd.databricks.v1+output": {
       "addedWidgets": {},
       "aggData": [],
       "aggError": "",
       "aggOverflow": false,
       "aggSchema": [],
       "aggSeriesLimitReached": false,
       "aggType": "",
       "arguments": {},
       "columnCustomDisplayInfos": {},
       "data": [],
       "datasetInfos": [],
       "dbfsResultPath": null,
       "isJsonSchema": true,
       "metadata": {
        "dataframeName": null
       },
       "overflow": false,
       "plotOptions": {
        "customPlotOptions": {},
        "displayType": "table",
        "pivotAggregation": null,
        "pivotColumns": null,
        "xColumns": null,
        "yColumns": null
       },
       "removedWidgets": [],
       "schema": [],
       "type": "table"
      }
     },
     "output_type": "display_data"
    }
   ],
   "source": [
    "%sql\n",
    "\n",
    "-- Si tabla Fact_Producto ya existe, la elimino\n",
    "DROP TABLE IF EXISTS Fact_Product;\n",
    "\n",
    "CREATE TEMP VIEW Fact_Product AS \n",
    "SELECT \n",
    "    P.Cod_Producto, \n",
    "    P.Nombre AS Producto, \n",
    "    S.Nombre AS SubCategoria, \n",
    "    C.Nombre AS Categoria\n",
    "FROM \n",
    "    s_producto P\n",
    "JOIN \n",
    "    s_categoria S ON P.Cod_SubCategoria = S.Cod_Categoria\n",
    "JOIN \n",
    "    s_categoria C ON S.Cod_Categoria = C.Cod_Categoria"
   ]
  },
  {
   "cell_type": "code",
   "execution_count": 0,
   "metadata": {
    "application/vnd.databricks.v1+cell": {
     "cellMetadata": {
      "byteLimit": 2048000,
      "rowLimit": 10000
     },
     "inputWidgets": {},
     "nuid": "d654b341-93b6-4d60-888d-080399e76004",
     "showTitle": false,
     "title": ""
    }
   },
   "outputs": [],
   "source": [
    "dfFactProducto = spark.table(\"Fact_Product\")\n",
    "dfFactProducto.write.mode(\"overwrite\").parquet(\"/mnt/proyectofinal/capa_oro/FactProducto.parquet/\")"
   ]
  }
 ],
 "metadata": {
  "application/vnd.databricks.v1+notebook": {
   "dashboards": [],
   "environmentMetadata": null,
   "language": "python",
   "notebookMetadata": {
    "mostRecentlyExecutedCommandWithImplicitDF": {
     "commandId": 3237528669483209,
     "dataframes": [
      "_sqldf"
     ]
    },
    "pythonIndentUnit": 4
   },
   "notebookName": "Ingesta_capaplata_capaoro",
   "widgets": {}
  }
 },
 "nbformat": 4,
 "nbformat_minor": 0
}
